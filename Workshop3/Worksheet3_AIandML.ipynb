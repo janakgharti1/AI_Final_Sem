{
  "nbformat": 4,
  "nbformat_minor": 0,
  "metadata": {
    "colab": {
      "provenance": []
    },
    "kernelspec": {
      "name": "python3",
      "display_name": "Python 3"
    },
    "language_info": {
      "name": "python"
    }
  },
  "cells": [
    {
      "cell_type": "markdown",
      "source": [
        "Task - 1: Implementation of MCP Neurons"
      ],
      "metadata": {
        "id": "qolTigDflQ6V"
      }
    },
    {
      "cell_type": "code",
      "execution_count": null,
      "metadata": {
        "colab": {
          "base_uri": "https://localhost:8080/"
        },
        "id": "nEAbSroCisk7",
        "outputId": "350b9e77-1ed5-4a68-b919-7f3067bca2ea"
      },
      "outputs": [
        {
          "output_type": "stream",
          "name": "stdout",
          "text": [
            "Output of AND gate for inputs [0, 0, 1, 1] and [0, 1, 0, 1] with threshold 2: [0, 0, 0, 1]\n"
          ]
        }
      ],
      "source": [
        "def MCP_Neurons_AND(X1, X2, T):\n",
        "    \"\"\"\n",
        "    This function implements a basic AND operation using an MCP Neuron for two inputs.\n",
        "\n",
        "    Arguments:\n",
        "    X1 (list): A list of binary values (0 or 1).\n",
        "    X2 (list): A list of binary values (0 or 1).\n",
        "    T (int): The threshold value.\n",
        "\n",
        "    Returns:\n",
        "    state_neuron (list): A list representing the neuron state (1 or 0) for each input pair.\n",
        "    \"\"\"\n",
        "    assert len(X1) == len(X2), \"Input lists must have the same length.\"\n",
        "\n",
        "    # Initialize an empty list for neuron states\n",
        "    state_neuron = []\n",
        "\n",
        "    # Compute neuron output based on threshold\n",
        "    for i in range(len(X1)):\n",
        "        if X1[i] + X2[i] >= T:  # AND gate condition\n",
        "            state_neuron.append(1)\n",
        "        else:\n",
        "            state_neuron.append(0)\n",
        "\n",
        "    return state_neuron\n",
        "\n",
        "\n",
        "# Example usage\n",
        "X1 = [0, 0, 1, 1]\n",
        "X2 = [0, 1, 0, 1]\n",
        "T = 2  # Threshold value for AND gate\n",
        "\n",
        "# Call the function\n",
        "result = MCP_Neurons_AND(X1, X2, T)\n",
        "\n",
        "# Print the result\n",
        "print(f\"Output of AND gate for inputs {X1} and {X2} with threshold {T}: {result}\")"
      ]
    },
    {
      "cell_type": "code",
      "source": [
        "def MCP_Neurons_OR(X1, X2, T):\n",
        "    \"\"\"\n",
        "    This function implements a basic OR operation using an MCP Neuron for two inputs.\n",
        "\n",
        "    Arguments:\n",
        "    X1 (list): A list of binary values (0 or 1).\n",
        "    X2 (list): A list of binary values (0 or 1).\n",
        "    T (int): The threshold value.\n",
        "\n",
        "    Returns:\n",
        "    state_neuron (list): A list representing the neuron state (1 or 0) for each input pair.\n",
        "    \"\"\"\n",
        "    assert len(X1) == len(X2), \"Input lists must have the same length.\"\n",
        "\n",
        "    # Initialize an empty list for neuron states\n",
        "    state_neuron = []\n",
        "\n",
        "    # Compute neuron output based on threshold\n",
        "    for i in range(len(X1)):\n",
        "        if X1[i] + X2[i] >= T:  # OR gate condition\n",
        "            state_neuron.append(1)\n",
        "        else:\n",
        "            state_neuron.append(0)\n",
        "\n",
        "    return state_neuron\n",
        "\n",
        "\n",
        "# Example usage\n",
        "X1 = [0, 0, 1, 1]\n",
        "X2 = [0, 1, 0, 1]\n",
        "T = 1  # Threshold value for OR gate\n",
        "\n",
        "# Call the function\n",
        "result_or = MCP_Neurons_OR(X1, X2, T)\n",
        "\n",
        "# Print the result\n",
        "print(f\"Output of OR gate for inputs {X1} and {X2} with threshold {T}: {result_or}\")"
      ],
      "metadata": {
        "colab": {
          "base_uri": "https://localhost:8080/"
        },
        "id": "bGdHbBHHkVqo",
        "outputId": "db7c5378-b46c-4d7e-acfe-772e494d9e6c"
      },
      "execution_count": null,
      "outputs": [
        {
          "output_type": "stream",
          "name": "stdout",
          "text": [
            "Output of OR gate for inputs [0, 0, 1, 1] and [0, 1, 0, 1] with threshold 1: [0, 1, 1, 1]\n"
          ]
        }
      ]
    },
    {
      "cell_type": "markdown",
      "source": [
        "3.2.1 Answer the Following Question:\n",
        "• You can use Text cell of your notebook to answer the question.\n",
        "\n",
        "• Question - 1: List out all the limitations of MCP - Neurons.\n",
        "\n",
        "\n",
        "• Question - 2: Think if you can develop a logic to solve for XOR function using MCP Neuron.\n",
        "\n",
        "{Can you devise a if else rules.}"
      ],
      "metadata": {
        "id": "wM4xnZWEld19"
      }
    },
    {
      "cell_type": "markdown",
      "source": [
        "Answer-1 : The limitations od MCP-Neurons are:\n",
        "\n",
        "1. MCP neurons can only solve linearly separable problems like AND & OR but fail for XOR\n",
        "\n",
        "2. MCP neurons do not improve over time because they have fixed rules and no learning ability\n",
        "\n",
        "3. They work with 0s and 1s only and cannot process continuous numbers like modern AI\n",
        "\n",
        "4. Do not have connections with multiple neurons\n",
        "\n",
        "5. Cannot adjust weights to learn new patterns"
      ],
      "metadata": {
        "id": "7aI04mqilo6h"
      }
    },
    {
      "cell_type": "markdown",
      "source": [
        "Answer-2: A single MCP neuron cannot solve XOR because XOR is not linearly separable. However, we can combine multiple MCP neurons (AND, OR, and NAND) to implement XOR."
      ],
      "metadata": {
        "id": "YMGxGJMCm5ZR"
      }
    },
    {
      "cell_type": "code",
      "source": [
        "from google.colab import files\n",
        "\n",
        "uploaded = files.upload()"
      ],
      "metadata": {
        "colab": {
          "base_uri": "https://localhost:8080/",
          "height": 73
        },
        "id": "tpUfXZerlP6x",
        "outputId": "cd51f8e7-8aa9-47e7-dd89-bc6ab8d78fa1"
      },
      "execution_count": null,
      "outputs": [
        {
          "output_type": "display_data",
          "data": {
            "text/plain": [
              "<IPython.core.display.HTML object>"
            ],
            "text/html": [
              "\n",
              "     <input type=\"file\" id=\"files-5a670f99-bef2-44a6-8f19-b84d469b20e0\" name=\"files[]\" multiple disabled\n",
              "        style=\"border:none\" />\n",
              "     <output id=\"result-5a670f99-bef2-44a6-8f19-b84d469b20e0\">\n",
              "      Upload widget is only available when the cell has been executed in the\n",
              "      current browser session. Please rerun this cell to enable.\n",
              "      </output>\n",
              "      <script>// Copyright 2017 Google LLC\n",
              "//\n",
              "// Licensed under the Apache License, Version 2.0 (the \"License\");\n",
              "// you may not use this file except in compliance with the License.\n",
              "// You may obtain a copy of the License at\n",
              "//\n",
              "//      http://www.apache.org/licenses/LICENSE-2.0\n",
              "//\n",
              "// Unless required by applicable law or agreed to in writing, software\n",
              "// distributed under the License is distributed on an \"AS IS\" BASIS,\n",
              "// WITHOUT WARRANTIES OR CONDITIONS OF ANY KIND, either express or implied.\n",
              "// See the License for the specific language governing permissions and\n",
              "// limitations under the License.\n",
              "\n",
              "/**\n",
              " * @fileoverview Helpers for google.colab Python module.\n",
              " */\n",
              "(function(scope) {\n",
              "function span(text, styleAttributes = {}) {\n",
              "  const element = document.createElement('span');\n",
              "  element.textContent = text;\n",
              "  for (const key of Object.keys(styleAttributes)) {\n",
              "    element.style[key] = styleAttributes[key];\n",
              "  }\n",
              "  return element;\n",
              "}\n",
              "\n",
              "// Max number of bytes which will be uploaded at a time.\n",
              "const MAX_PAYLOAD_SIZE = 100 * 1024;\n",
              "\n",
              "function _uploadFiles(inputId, outputId) {\n",
              "  const steps = uploadFilesStep(inputId, outputId);\n",
              "  const outputElement = document.getElementById(outputId);\n",
              "  // Cache steps on the outputElement to make it available for the next call\n",
              "  // to uploadFilesContinue from Python.\n",
              "  outputElement.steps = steps;\n",
              "\n",
              "  return _uploadFilesContinue(outputId);\n",
              "}\n",
              "\n",
              "// This is roughly an async generator (not supported in the browser yet),\n",
              "// where there are multiple asynchronous steps and the Python side is going\n",
              "// to poll for completion of each step.\n",
              "// This uses a Promise to block the python side on completion of each step,\n",
              "// then passes the result of the previous step as the input to the next step.\n",
              "function _uploadFilesContinue(outputId) {\n",
              "  const outputElement = document.getElementById(outputId);\n",
              "  const steps = outputElement.steps;\n",
              "\n",
              "  const next = steps.next(outputElement.lastPromiseValue);\n",
              "  return Promise.resolve(next.value.promise).then((value) => {\n",
              "    // Cache the last promise value to make it available to the next\n",
              "    // step of the generator.\n",
              "    outputElement.lastPromiseValue = value;\n",
              "    return next.value.response;\n",
              "  });\n",
              "}\n",
              "\n",
              "/**\n",
              " * Generator function which is called between each async step of the upload\n",
              " * process.\n",
              " * @param {string} inputId Element ID of the input file picker element.\n",
              " * @param {string} outputId Element ID of the output display.\n",
              " * @return {!Iterable<!Object>} Iterable of next steps.\n",
              " */\n",
              "function* uploadFilesStep(inputId, outputId) {\n",
              "  const inputElement = document.getElementById(inputId);\n",
              "  inputElement.disabled = false;\n",
              "\n",
              "  const outputElement = document.getElementById(outputId);\n",
              "  outputElement.innerHTML = '';\n",
              "\n",
              "  const pickedPromise = new Promise((resolve) => {\n",
              "    inputElement.addEventListener('change', (e) => {\n",
              "      resolve(e.target.files);\n",
              "    });\n",
              "  });\n",
              "\n",
              "  const cancel = document.createElement('button');\n",
              "  inputElement.parentElement.appendChild(cancel);\n",
              "  cancel.textContent = 'Cancel upload';\n",
              "  const cancelPromise = new Promise((resolve) => {\n",
              "    cancel.onclick = () => {\n",
              "      resolve(null);\n",
              "    };\n",
              "  });\n",
              "\n",
              "  // Wait for the user to pick the files.\n",
              "  const files = yield {\n",
              "    promise: Promise.race([pickedPromise, cancelPromise]),\n",
              "    response: {\n",
              "      action: 'starting',\n",
              "    }\n",
              "  };\n",
              "\n",
              "  cancel.remove();\n",
              "\n",
              "  // Disable the input element since further picks are not allowed.\n",
              "  inputElement.disabled = true;\n",
              "\n",
              "  if (!files) {\n",
              "    return {\n",
              "      response: {\n",
              "        action: 'complete',\n",
              "      }\n",
              "    };\n",
              "  }\n",
              "\n",
              "  for (const file of files) {\n",
              "    const li = document.createElement('li');\n",
              "    li.append(span(file.name, {fontWeight: 'bold'}));\n",
              "    li.append(span(\n",
              "        `(${file.type || 'n/a'}) - ${file.size} bytes, ` +\n",
              "        `last modified: ${\n",
              "            file.lastModifiedDate ? file.lastModifiedDate.toLocaleDateString() :\n",
              "                                    'n/a'} - `));\n",
              "    const percent = span('0% done');\n",
              "    li.appendChild(percent);\n",
              "\n",
              "    outputElement.appendChild(li);\n",
              "\n",
              "    const fileDataPromise = new Promise((resolve) => {\n",
              "      const reader = new FileReader();\n",
              "      reader.onload = (e) => {\n",
              "        resolve(e.target.result);\n",
              "      };\n",
              "      reader.readAsArrayBuffer(file);\n",
              "    });\n",
              "    // Wait for the data to be ready.\n",
              "    let fileData = yield {\n",
              "      promise: fileDataPromise,\n",
              "      response: {\n",
              "        action: 'continue',\n",
              "      }\n",
              "    };\n",
              "\n",
              "    // Use a chunked sending to avoid message size limits. See b/62115660.\n",
              "    let position = 0;\n",
              "    do {\n",
              "      const length = Math.min(fileData.byteLength - position, MAX_PAYLOAD_SIZE);\n",
              "      const chunk = new Uint8Array(fileData, position, length);\n",
              "      position += length;\n",
              "\n",
              "      const base64 = btoa(String.fromCharCode.apply(null, chunk));\n",
              "      yield {\n",
              "        response: {\n",
              "          action: 'append',\n",
              "          file: file.name,\n",
              "          data: base64,\n",
              "        },\n",
              "      };\n",
              "\n",
              "      let percentDone = fileData.byteLength === 0 ?\n",
              "          100 :\n",
              "          Math.round((position / fileData.byteLength) * 100);\n",
              "      percent.textContent = `${percentDone}% done`;\n",
              "\n",
              "    } while (position < fileData.byteLength);\n",
              "  }\n",
              "\n",
              "  // All done.\n",
              "  yield {\n",
              "    response: {\n",
              "      action: 'complete',\n",
              "    }\n",
              "  };\n",
              "}\n",
              "\n",
              "scope.google = scope.google || {};\n",
              "scope.google.colab = scope.google.colab || {};\n",
              "scope.google.colab._files = {\n",
              "  _uploadFiles,\n",
              "  _uploadFilesContinue,\n",
              "};\n",
              "})(self);\n",
              "</script> "
            ]
          },
          "metadata": {}
        },
        {
          "output_type": "stream",
          "name": "stdout",
          "text": [
            "Saving mnist_0_and_1.csv to mnist_0_and_1.csv\n"
          ]
        }
      ]
    },
    {
      "cell_type": "code",
      "source": [
        "import pandas as pd\n",
        "import numpy as np\n",
        "import matplotlib.pyplot as plt\n",
        "# Load the dataset\n",
        "df_0_1 = pd.read_csv(\"mnist_0_and_1.csv\") # Add the correct file path if necessary\n",
        "# Extract features and labels\n",
        "X = df_0_1.drop(columns=[\"label\"]).values # 784 pixels\n",
        "y = df_0_1[\"label\"].values # Labels (0 or 1)\n",
        "# Check the shape of the features and labels\n",
        "print(\"Feature matrix shape:\", X.shape)\n",
        "print(\"Label vector shape:\", y.shape)"
      ],
      "metadata": {
        "colab": {
          "base_uri": "https://localhost:8080/"
        },
        "id": "Gl7rg578n2Cz",
        "outputId": "79fafc19-a457-4530-d09e-08b7341a9be1"
      },
      "execution_count": null,
      "outputs": [
        {
          "output_type": "stream",
          "name": "stdout",
          "text": [
            "Feature matrix shape: (12665, 784)\n",
            "Label vector shape: (12665,)\n"
          ]
        }
      ]
    },
    {
      "cell_type": "markdown",
      "source": [
        "Question - 1: What does the shape of X represent?\n",
        "\n",
        "=> The shape of X represents the number of images and the number of features per image in the dataset.\n",
        "\n",
        "1. Rows (first value) → Number of images in the dataset.\n",
        "\n",
        "2. Columns (second value) → Number of features (pixels) for each image.\n",
        "\n",
        "Since MNIST images are 28×28 pixels (total 784 pixels), the shape of X should be (12665, 784)."
      ],
      "metadata": {
        "id": "Bs8W5vZ5oiLz"
      }
    },
    {
      "cell_type": "markdown",
      "source": [
        "Question - 2: What does the shape of y represent?\n",
        "\n",
        "=> The shape of y represents the number of labels corresponding to the images in X.\n",
        "\n",
        "1. It should have the same number of rows as X because each image has one label (either 0 or 1 in this dataset).\n",
        "\n",
        "2. The shape of y is (12665,), meaning it is a 1D array with labels for all images."
      ],
      "metadata": {
        "id": "8E5jQV1YpGX_"
      }
    },
    {
      "cell_type": "code",
      "source": [
        "# Convert y into a NumPy array (if not already)\n",
        "y = np.array(y)\n",
        "\n",
        "# Separate images for label 0 and label 1\n",
        "images_0 = X[y == 0]  # Get all images with label 0\n",
        "images_1 = X[y == 1]  # Get all images with label 1\n",
        "\n",
        "# Create subplots\n",
        "fig, axes = plt.subplots(2, 5, figsize=(10, 5))\n",
        "\n",
        "# Check if there are enough images\n",
        "if len(images_0) < 5 or len(images_1) < 5:\n",
        "    print(\"Error: Not enough images in images_0 or images_1 to plot 5 images.\")\n",
        "else:\n",
        "    for i in range(5):\n",
        "        # Plot digit 0\n",
        "        axes[0, i].imshow(images_0[i].reshape(28, 28), cmap=\"gray\")\n",
        "        axes[0, i].set_title(\"Label: 0\")\n",
        "        axes[0, i].axis(\"off\")\n",
        "\n",
        "        # Plot digit 1\n",
        "        axes[1, i].imshow(images_1[i].reshape(28, 28), cmap=\"gray\")\n",
        "        axes[1, i].set_title(\"Label: 1\")\n",
        "        axes[1, i].axis(\"off\")\n",
        "\n",
        "    plt.suptitle(\"First 5 Images of 0 and 1 from MNIST Subset\")\n",
        "    plt.show()"
      ],
      "metadata": {
        "colab": {
          "base_uri": "https://localhost:8080/",
          "height": 451
        },
        "id": "MULsiD6GohJ8",
        "outputId": "ff20ffbb-7dc0-4a91-db22-e10bd5ec4a31"
      },
      "execution_count": null,
      "outputs": [
        {
          "output_type": "display_data",
          "data": {
            "text/plain": [
              "<Figure size 1000x500 with 10 Axes>"
            ],
            "image/png": "[encoded data removed]"
          },
          "metadata": {}
        }
      ]
    },
    {
      "cell_type": "code",
      "source": [
        "# Initialize weights and bias\n",
        "weights = np.zeros(X.shape[1]) # 784 weights (one for each pixel)\n",
        "bias = 0\n",
        "learning_rate = 0.1\n",
        "epochs = 100"
      ],
      "metadata": {
        "id": "kDLg_sO6qb-r"
      },
      "execution_count": null,
      "outputs": []
    },
    {
      "cell_type": "markdown",
      "source": [
        "Answer the Following Question:\n",
        "1. Question - 3: What does the weights array represent in this context?\n",
        "\n",
        "=> The weights array represents the importance of each pixel in the image when deciding if it is a \"0\" or \"1.\"\n",
        "\n",
        "*   Each weight corresponds to a single pixel in the image.\n",
        "*   During training, the model adjusts these weights to learn which pixels are more important for recognizing the digits.\n",
        "\n",
        "\n",
        "-----------------------------------------\n",
        "\n",
        "2. Question - 4: Why are we initializing the weights to zero? What effect could this have on the training process?\n",
        "\n",
        "=> We start with weights set to zero because it's a simple way to begin the learning process.\n",
        "\n",
        "Effect on Training:\n",
        "\n",
        "* At first, all weights are equal (zero), meaning the model doesn't favor any specific pixel.\n",
        "\n",
        "* The model will gradually adjust the weights based on the training data to learn which pixels matter more for predicting \"0\" or \"1.\"\n"
      ],
      "metadata": {
        "id": "4Yc2TT5GqkJk"
      }
    },
    {
      "cell_type": "code",
      "source": [
        "import numpy as np\n",
        "\n",
        "def decision_function(X, weights, bias):\n",
        "    \"\"\"\n",
        "    Compute the predicted labels for the input data.\n",
        "\n",
        "    Parameters:\n",
        "    - X: Features (input data) as a numpy array of shape (n_samples, n_features)\n",
        "    - weights: Updated weights after training\n",
        "    - bias: Updated bias after training\n",
        "\n",
        "    Returns:\n",
        "    - y_pred_all: The predicted labels for the input data\n",
        "    \"\"\"\n",
        "    # Calculate the linear combination of inputs and weights\n",
        "    predictions = np.dot(X, weights) + bias\n",
        "\n",
        "    # Activation function (step function) to convert predictions to binary labels\n",
        "    y_pred_all = np.where(predictions >= 0, 1, 0)\n",
        "\n",
        "    return y_pred_all"
      ],
      "metadata": {
        "id": "VsZSawHzr8un"
      },
      "execution_count": null,
      "outputs": []
    },
    {
      "cell_type": "code",
      "source": [
        "import numpy as np\n",
        "\n",
        "def train_perceptron(X, y, weights, bias, learning_rate=0.1, epochs=100):\n",
        "    \"\"\"\n",
        "    Train the perceptron using the Perceptron Learning Algorithm.\n",
        "\n",
        "    Parameters:\n",
        "    - X: Features (input data) as a numpy array of shape (n_samples, n_features)\n",
        "    - y: Labels (true output) as a numpy array of shape (n_samples,)\n",
        "    - weights: Initial weights as a numpy array of shape (n_features,)\n",
        "    - bias: Initial bias value (scalar)\n",
        "    - learning_rate: Learning rate for weight updates (default is 0.1)\n",
        "    - epochs: Number of iterations to train the model (default is 100)\n",
        "\n",
        "    Returns:\n",
        "    - weights: Updated weights after training\n",
        "    - bias: Updated bias after training\n",
        "    - accuracy: Total correct predictions\n",
        "    \"\"\"\n",
        "    # Step 3: Perceptron Learning Algorithm\n",
        "    for epoch in range(epochs):\n",
        "        correct_predictions = 0  # Count of correct predictions in the current epoch\n",
        "\n",
        "        # Iterate over each training sample\n",
        "        for i in range(len(X)):\n",
        "            # Compute the prediction using the decision function\n",
        "            prediction = np.dot(X[i], weights) + bias\n",
        "            # Apply the step function (activation function)\n",
        "            y_pred = 1 if prediction >= 0 else 0\n",
        "\n",
        "            # Update weights and bias if the prediction is incorrect\n",
        "            if y_pred != y[i]:\n",
        "                # Update weights and bias\n",
        "                weights += learning_rate * (y[i] - y_pred) * X[i]\n",
        "                bias += learning_rate * (y[i] - y_pred)\n",
        "            else:\n",
        "                correct_predictions += 1\n",
        "\n",
        "        # Calculate accuracy for the current epoch\n",
        "        accuracy = correct_predictions / len(X) * 100\n",
        "        print(f\"Epoch {epoch+1}/{epochs}, Accuracy: {accuracy:.2f}%\")\n",
        "\n",
        "    return weights, bias, accuracy"
      ],
      "metadata": {
        "id": "u-KtBIknsYkH"
      },
      "execution_count": null,
      "outputs": []
    },
    {
      "cell_type": "markdown",
      "source": [
        "Answer the Following Question:\n",
        "1. Question - 5: What is the purpose of the output = np.dot(X[i], weights) + bias line?\n",
        "\n",
        "=> This line calculates the total input to the model by multiplying each input feature by its weight, then adding the bias. It gives the raw prediction before applying the activation function.\n",
        "\n",
        "-------------------------------------------------------\n",
        "\n",
        "2. Question - 6: What happens when the prediction is wrong? How are the weights and bias updated?\n",
        "\n",
        "=> When the prediction is wrong, the model adjusts the weights and bias to improve future predictions:\n",
        "\n",
        "* Weights are updated based on the error (difference between actual and predicted labels).\n",
        "\n",
        "* Bias is also updated using the error.\n",
        "\n",
        "These updates help the model learn from mistakes and get better at predicting.\n",
        "\n",
        "-------------------------------------------------------\n",
        "3. Question - 7:Why is the final accuracy important, and what do you expect it to be?\n",
        "\n",
        "=> The final accuracy shows how well the model predicts correctly.\n",
        "\n",
        "* Importance: High accuracy means the model is good at making correct predictions.\n",
        "\n",
        "* Expectation: I expect the accuracy to be as high as possible, ideally 100%, after enough training."
      ],
      "metadata": {
        "id": "mat-QOgVtZZI"
      }
    },
    {
      "cell_type": "code",
      "source": [
        "# After training the model with the perceptron_learning_algorithm\n",
        "weights, bias, accuracy = train_perceptron(X, y, weights, bias)\n",
        "# Evaluate the model using the new function\n",
        "print(\"The Final Accuracy is: \", accuracy)"
      ],
      "metadata": {
        "colab": {
          "base_uri": "https://localhost:8080/"
        },
        "id": "9SoEstMluWRy",
        "outputId": "797f79ae-68a0-4dbd-a8a8-dd2920d105a9"
      },
      "execution_count": null,
      "outputs": [
        {
          "output_type": "stream",
          "name": "stdout",
          "text": [
            "Epoch 1/100, Accuracy: 100.00%\n",
            "Epoch 2/100, Accuracy: 100.00%\n",
            "Epoch 3/100, Accuracy: 100.00%\n",
            "Epoch 4/100, Accuracy: 100.00%\n",
            "Epoch 5/100, Accuracy: 100.00%\n",
            "Epoch 6/100, Accuracy: 100.00%\n",
            "Epoch 7/100, Accuracy: 100.00%\n",
            "Epoch 8/100, Accuracy: 100.00%\n",
            "Epoch 9/100, Accuracy: 100.00%\n",
            "Epoch 10/100, Accuracy: 100.00%\n",
            "Epoch 11/100, Accuracy: 100.00%\n",
            "Epoch 12/100, Accuracy: 100.00%\n",
            "Epoch 13/100, Accuracy: 100.00%\n",
            "Epoch 14/100, Accuracy: 100.00%\n",
            "Epoch 15/100, Accuracy: 100.00%\n",
            "Epoch 16/100, Accuracy: 100.00%\n",
            "Epoch 17/100, Accuracy: 100.00%\n",
            "Epoch 18/100, Accuracy: 100.00%\n",
            "Epoch 19/100, Accuracy: 100.00%\n",
            "Epoch 20/100, Accuracy: 100.00%\n",
            "Epoch 21/100, Accuracy: 100.00%\n",
            "Epoch 22/100, Accuracy: 100.00%\n",
            "Epoch 23/100, Accuracy: 100.00%\n",
            "Epoch 24/100, Accuracy: 100.00%\n",
            "Epoch 25/100, Accuracy: 100.00%\n",
            "Epoch 26/100, Accuracy: 100.00%\n",
            "Epoch 27/100, Accuracy: 100.00%\n",
            "Epoch 28/100, Accuracy: 100.00%\n",
            "Epoch 29/100, Accuracy: 100.00%\n",
            "Epoch 30/100, Accuracy: 100.00%\n",
            "Epoch 31/100, Accuracy: 100.00%\n",
            "Epoch 32/100, Accuracy: 100.00%\n",
            "Epoch 33/100, Accuracy: 100.00%\n",
            "Epoch 34/100, Accuracy: 100.00%\n",
            "Epoch 35/100, Accuracy: 100.00%\n",
            "Epoch 36/100, Accuracy: 100.00%\n",
            "Epoch 37/100, Accuracy: 100.00%\n",
            "Epoch 38/100, Accuracy: 100.00%\n",
            "Epoch 39/100, Accuracy: 100.00%\n",
            "Epoch 40/100, Accuracy: 100.00%\n",
            "Epoch 41/100, Accuracy: 100.00%\n",
            "Epoch 42/100, Accuracy: 100.00%\n",
            "Epoch 43/100, Accuracy: 100.00%\n",
            "Epoch 44/100, Accuracy: 100.00%\n",
            "Epoch 45/100, Accuracy: 100.00%\n",
            "Epoch 46/100, Accuracy: 100.00%\n",
            "Epoch 47/100, Accuracy: 100.00%\n",
            "Epoch 48/100, Accuracy: 100.00%\n",
            "Epoch 49/100, Accuracy: 100.00%\n",
            "Epoch 50/100, Accuracy: 100.00%\n",
            "Epoch 51/100, Accuracy: 100.00%\n",
            "Epoch 52/100, Accuracy: 100.00%\n",
            "Epoch 53/100, Accuracy: 100.00%\n",
            "Epoch 54/100, Accuracy: 100.00%\n",
            "Epoch 55/100, Accuracy: 100.00%\n",
            "Epoch 56/100, Accuracy: 100.00%\n",
            "Epoch 57/100, Accuracy: 100.00%\n",
            "Epoch 58/100, Accuracy: 100.00%\n",
            "Epoch 59/100, Accuracy: 100.00%\n",
            "Epoch 60/100, Accuracy: 100.00%\n",
            "Epoch 61/100, Accuracy: 100.00%\n",
            "Epoch 62/100, Accuracy: 100.00%\n",
            "Epoch 63/100, Accuracy: 100.00%\n",
            "Epoch 64/100, Accuracy: 100.00%\n",
            "Epoch 65/100, Accuracy: 100.00%\n",
            "Epoch 66/100, Accuracy: 100.00%\n",
            "Epoch 67/100, Accuracy: 100.00%\n",
            "Epoch 68/100, Accuracy: 100.00%\n",
            "Epoch 69/100, Accuracy: 100.00%\n",
            "Epoch 70/100, Accuracy: 100.00%\n",
            "Epoch 71/100, Accuracy: 100.00%\n",
            "Epoch 72/100, Accuracy: 100.00%\n",
            "Epoch 73/100, Accuracy: 100.00%\n",
            "Epoch 74/100, Accuracy: 100.00%\n",
            "Epoch 75/100, Accuracy: 100.00%\n",
            "Epoch 76/100, Accuracy: 100.00%\n",
            "Epoch 77/100, Accuracy: 100.00%\n",
            "Epoch 78/100, Accuracy: 100.00%\n",
            "Epoch 79/100, Accuracy: 100.00%\n",
            "Epoch 80/100, Accuracy: 100.00%\n",
            "Epoch 81/100, Accuracy: 100.00%\n",
            "Epoch 82/100, Accuracy: 100.00%\n",
            "Epoch 83/100, Accuracy: 100.00%\n",
            "Epoch 84/100, Accuracy: 100.00%\n",
            "Epoch 85/100, Accuracy: 100.00%\n",
            "Epoch 86/100, Accuracy: 100.00%\n",
            "Epoch 87/100, Accuracy: 100.00%\n",
            "Epoch 88/100, Accuracy: 100.00%\n",
            "Epoch 89/100, Accuracy: 100.00%\n",
            "Epoch 90/100, Accuracy: 100.00%\n",
            "Epoch 91/100, Accuracy: 100.00%\n",
            "Epoch 92/100, Accuracy: 100.00%\n",
            "Epoch 93/100, Accuracy: 100.00%\n",
            "Epoch 94/100, Accuracy: 100.00%\n",
            "Epoch 95/100, Accuracy: 100.00%\n",
            "Epoch 96/100, Accuracy: 100.00%\n",
            "Epoch 97/100, Accuracy: 100.00%\n",
            "Epoch 98/100, Accuracy: 100.00%\n",
            "Epoch 99/100, Accuracy: 100.00%\n",
            "Epoch 100/100, Accuracy: 100.00%\n",
            "The Final Accuracy is:  100.0\n"
          ]
        }
      ]
    },
    {
      "cell_type": "code",
      "source": [
        "# Get predictions for all data points\n",
        "predictions = np.dot(X, weights) + bias\n",
        "y_pred = np.where(predictions >= 0, 1, 0)\n",
        "\n",
        "# Calculate final accuracy\n",
        "final_accuracy = np.mean(y_pred == y)\n",
        "print(f\"Final Accuracy: {final_accuracy:.4f}\")\n",
        "\n",
        "# Step 5: Visualize Misclassified Images\n",
        "misclassified_idx = np.where(y_pred != y)[0]\n",
        "if len(misclassified_idx) > 0:\n",
        "    fig, axes = plt.subplots(2, 5, figsize=(10, 5))\n",
        "    for ax, idx in zip(axes.flat, misclassified_idx[:10]):  # Show 10 misclassified images\n",
        "        ax.imshow(X[idx].reshape(28, 28), cmap=\"gray\")\n",
        "        ax.set_title(f\"Pred: {y_pred[idx]}, True: {y[idx]}\")\n",
        "        ax.axis(\"off\")\n",
        "    plt.suptitle(\"Misclassified Images\")\n",
        "    plt.show()\n",
        "else:\n",
        "    print(\"All images were correctly classified!\")"
      ],
      "metadata": {
        "colab": {
          "base_uri": "https://localhost:8080/"
        },
        "id": "A1AadWWqvSvW",
        "outputId": "61536bad-018d-484f-cb9e-e6b2af31c54d"
      },
      "execution_count": null,
      "outputs": [
        {
          "output_type": "stream",
          "name": "stdout",
          "text": [
            "Final Accuracy: 1.0000\n",
            "All images were correctly classified!\n"
          ]
        }
      ]
    },
    {
      "cell_type": "markdown",
      "source": [
        "Answer the Following Question:\n",
        "1. Question - 8:What does misclassified idx store, and how is it used in this code?\n",
        "\n",
        "=> misclassified_idx stores the indexes of the images where the prediction was wrong. It's used to show the misclassified images and compare the predicted labels with the actual labels.\n",
        "\n",
        "------------\n",
        "2. Question - 9: How do you interpret the result if the output is ”All images were correctly classified!”?\n",
        "\n",
        "=> If the output is \"All images were correctly classified!\", it means the model predicted all the images correctly, with 100% accuracy, and there were no mistakes."
      ],
      "metadata": {
        "id": "Zte889h3v6S3"
      }
    },
    {
      "cell_type": "markdown",
      "source": [
        "**4.4 Task 3: Perceptron Algorithm for 3 vs 5 Classification**\n",
        "\n",
        "\n",
        "**4.5 To - Do**\n",
        "1. Implement each Step as we implemented above.\n",
        "2. Visualize the final misclassified images and Provide your conclusion."
      ],
      "metadata": {
        "id": "LvQ6pMp8xIQh"
      }
    },
    {
      "cell_type": "code",
      "source": [
        "from google.colab import files\n",
        "\n",
        "uploaded = files.upload()"
      ],
      "metadata": {
        "colab": {
          "base_uri": "https://localhost:8080/",
          "height": 73
        },
        "id": "-RjCJM55wNQ8",
        "outputId": "8485b803-ebf8-4c65-efab-0fd09606fdc9"
      },
      "execution_count": null,
      "outputs": [
        {
          "output_type": "display_data",
          "data": {
            "text/plain": [
              "<IPython.core.display.HTML object>"
            ],
            "text/html": [
              "\n",
              "     <input type=\"file\" id=\"files-8fd9ef3f-ec01-40f5-99de-25fe36b57524\" name=\"files[]\" multiple disabled\n",
              "        style=\"border:none\" />\n",
              "     <output id=\"result-8fd9ef3f-ec01-40f5-99de-25fe36b57524\">\n",
              "      Upload widget is only available when the cell has been executed in the\n",
              "      current browser session. Please rerun this cell to enable.\n",
              "      </output>\n",
              "      <script>// Copyright 2017 Google LLC\n",
              "//\n",
              "// Licensed under the Apache License, Version 2.0 (the \"License\");\n",
              "// you may not use this file except in compliance with the License.\n",
              "// You may obtain a copy of the License at\n",
              "//\n",
              "//      http://www.apache.org/licenses/LICENSE-2.0\n",
              "//\n",
              "// Unless required by applicable law or agreed to in writing, software\n",
              "// distributed under the License is distributed on an \"AS IS\" BASIS,\n",
              "// WITHOUT WARRANTIES OR CONDITIONS OF ANY KIND, either express or implied.\n",
              "// See the License for the specific language governing permissions and\n",
              "// limitations under the License.\n",
              "\n",
              "/**\n",
              " * @fileoverview Helpers for google.colab Python module.\n",
              " */\n",
              "(function(scope) {\n",
              "function span(text, styleAttributes = {}) {\n",
              "  const element = document.createElement('span');\n",
              "  element.textContent = text;\n",
              "  for (const key of Object.keys(styleAttributes)) {\n",
              "    element.style[key] = styleAttributes[key];\n",
              "  }\n",
              "  return element;\n",
              "}\n",
              "\n",
              "// Max number of bytes which will be uploaded at a time.\n",
              "const MAX_PAYLOAD_SIZE = 100 * 1024;\n",
              "\n",
              "function _uploadFiles(inputId, outputId) {\n",
              "  const steps = uploadFilesStep(inputId, outputId);\n",
              "  const outputElement = document.getElementById(outputId);\n",
              "  // Cache steps on the outputElement to make it available for the next call\n",
              "  // to uploadFilesContinue from Python.\n",
              "  outputElement.steps = steps;\n",
              "\n",
              "  return _uploadFilesContinue(outputId);\n",
              "}\n",
              "\n",
              "// This is roughly an async generator (not supported in the browser yet),\n",
              "// where there are multiple asynchronous steps and the Python side is going\n",
              "// to poll for completion of each step.\n",
              "// This uses a Promise to block the python side on completion of each step,\n",
              "// then passes the result of the previous step as the input to the next step.\n",
              "function _uploadFilesContinue(outputId) {\n",
              "  const outputElement = document.getElementById(outputId);\n",
              "  const steps = outputElement.steps;\n",
              "\n",
              "  const next = steps.next(outputElement.lastPromiseValue);\n",
              "  return Promise.resolve(next.value.promise).then((value) => {\n",
              "    // Cache the last promise value to make it available to the next\n",
              "    // step of the generator.\n",
              "    outputElement.lastPromiseValue = value;\n",
              "    return next.value.response;\n",
              "  });\n",
              "}\n",
              "\n",
              "/**\n",
              " * Generator function which is called between each async step of the upload\n",
              " * process.\n",
              " * @param {string} inputId Element ID of the input file picker element.\n",
              " * @param {string} outputId Element ID of the output display.\n",
              " * @return {!Iterable<!Object>} Iterable of next steps.\n",
              " */\n",
              "function* uploadFilesStep(inputId, outputId) {\n",
              "  const inputElement = document.getElementById(inputId);\n",
              "  inputElement.disabled = false;\n",
              "\n",
              "  const outputElement = document.getElementById(outputId);\n",
              "  outputElement.innerHTML = '';\n",
              "\n",
              "  const pickedPromise = new Promise((resolve) => {\n",
              "    inputElement.addEventListener('change', (e) => {\n",
              "      resolve(e.target.files);\n",
              "    });\n",
              "  });\n",
              "\n",
              "  const cancel = document.createElement('button');\n",
              "  inputElement.parentElement.appendChild(cancel);\n",
              "  cancel.textContent = 'Cancel upload';\n",
              "  const cancelPromise = new Promise((resolve) => {\n",
              "    cancel.onclick = () => {\n",
              "      resolve(null);\n",
              "    };\n",
              "  });\n",
              "\n",
              "  // Wait for the user to pick the files.\n",
              "  const files = yield {\n",
              "    promise: Promise.race([pickedPromise, cancelPromise]),\n",
              "    response: {\n",
              "      action: 'starting',\n",
              "    }\n",
              "  };\n",
              "\n",
              "  cancel.remove();\n",
              "\n",
              "  // Disable the input element since further picks are not allowed.\n",
              "  inputElement.disabled = true;\n",
              "\n",
              "  if (!files) {\n",
              "    return {\n",
              "      response: {\n",
              "        action: 'complete',\n",
              "      }\n",
              "    };\n",
              "  }\n",
              "\n",
              "  for (const file of files) {\n",
              "    const li = document.createElement('li');\n",
              "    li.append(span(file.name, {fontWeight: 'bold'}));\n",
              "    li.append(span(\n",
              "        `(${file.type || 'n/a'}) - ${file.size} bytes, ` +\n",
              "        `last modified: ${\n",
              "            file.lastModifiedDate ? file.lastModifiedDate.toLocaleDateString() :\n",
              "                                    'n/a'} - `));\n",
              "    const percent = span('0% done');\n",
              "    li.appendChild(percent);\n",
              "\n",
              "    outputElement.appendChild(li);\n",
              "\n",
              "    const fileDataPromise = new Promise((resolve) => {\n",
              "      const reader = new FileReader();\n",
              "      reader.onload = (e) => {\n",
              "        resolve(e.target.result);\n",
              "      };\n",
              "      reader.readAsArrayBuffer(file);\n",
              "    });\n",
              "    // Wait for the data to be ready.\n",
              "    let fileData = yield {\n",
              "      promise: fileDataPromise,\n",
              "      response: {\n",
              "        action: 'continue',\n",
              "      }\n",
              "    };\n",
              "\n",
              "    // Use a chunked sending to avoid message size limits. See b/62115660.\n",
              "    let position = 0;\n",
              "    do {\n",
              "      const length = Math.min(fileData.byteLength - position, MAX_PAYLOAD_SIZE);\n",
              "      const chunk = new Uint8Array(fileData, position, length);\n",
              "      position += length;\n",
              "\n",
              "      const base64 = btoa(String.fromCharCode.apply(null, chunk));\n",
              "      yield {\n",
              "        response: {\n",
              "          action: 'append',\n",
              "          file: file.name,\n",
              "          data: base64,\n",
              "        },\n",
              "      };\n",
              "\n",
              "      let percentDone = fileData.byteLength === 0 ?\n",
              "          100 :\n",
              "          Math.round((position / fileData.byteLength) * 100);\n",
              "      percent.textContent = `${percentDone}% done`;\n",
              "\n",
              "    } while (position < fileData.byteLength);\n",
              "  }\n",
              "\n",
              "  // All done.\n",
              "  yield {\n",
              "    response: {\n",
              "      action: 'complete',\n",
              "    }\n",
              "  };\n",
              "}\n",
              "\n",
              "scope.google = scope.google || {};\n",
              "scope.google.colab = scope.google.colab || {};\n",
              "scope.google.colab._files = {\n",
              "  _uploadFiles,\n",
              "  _uploadFilesContinue,\n",
              "};\n",
              "})(self);\n",
              "</script> "
            ]
          },
          "metadata": {}
        },
        {
          "output_type": "stream",
          "name": "stdout",
          "text": [
            "Saving mnist_3_and_5.csv to mnist_3_and_5.csv\n"
          ]
        }
      ]
    },
    {
      "cell_type": "code",
      "source": [
        "import pandas as pd\n",
        "import numpy as np\n",
        "import matplotlib.pyplot as plt\n",
        "# Load the dataset\n",
        "df_3_5 = pd.read_csv(\"mnist_3_and_5.csv\") # Add the correct file path if necessary\n",
        "# Extract features and labels\n",
        "X = df_3_5.drop(columns=[\"label\"]).values # 784 pixels\n",
        "y = df_3_5[\"label\"].values # Labels (3 or 5)\n",
        "# Check the shape of the features and labels\n",
        "print(\"Feature matrix shape:\", X.shape)\n",
        "print(\"Label vector shape:\", y.shape)"
      ],
      "metadata": {
        "colab": {
          "base_uri": "https://localhost:8080/"
        },
        "id": "RLdop4UpxHUW",
        "outputId": "82fe8cbc-1390-48e3-8c81-167e6f2015a5"
      },
      "execution_count": null,
      "outputs": [
        {
          "output_type": "stream",
          "name": "stdout",
          "text": [
            "Feature matrix shape: (2741, 784)\n",
            "Label vector shape: (2741,)\n"
          ]
        }
      ]
    },
    {
      "cell_type": "code",
      "source": [
        "# Separate images for label 3 and label 5\n",
        "images_3 = X[y == 3]\n",
        "images_5 = X[y == 5]\n",
        "\n",
        "# Get the minimum number of available images (to avoid index errors)\n",
        "num_images = min(5, len(images_3), len(images_5))\n",
        "\n",
        "# Create subplots: 2 rows (one for each label) and 'num_images' columns\n",
        "fig, axes = plt.subplots(2, num_images, figsize=(num_images * 2, 5))\n",
        "\n",
        "for i in range(num_images):\n",
        "    # Plot images for label 3\n",
        "    axes[0, i].imshow(images_3[i].reshape(28, 28), cmap=\"gray\")\n",
        "    axes[0, i].set_title(\"Label: 3\")\n",
        "    axes[0, i].axis(\"off\")\n",
        "\n",
        "    # Plot images for label 5\n",
        "    axes[1, i].imshow(images_5[i].reshape(28, 28), cmap=\"gray\")\n",
        "    axes[1, i].set_title(\"Label: 5\")\n",
        "    axes[1, i].axis(\"off\")\n",
        "\n",
        "plt.suptitle(\"Images of 3 and 5 from MNIST Subset\", fontsize=14)\n",
        "plt.tight_layout(rect=[0, 0.03, 1, 0.95])\n",
        "plt.show()"
      ],
      "metadata": {
        "colab": {
          "base_uri": "https://localhost:8080/",
          "height": 488
        },
        "id": "1Adt4kdCxzid",
        "outputId": "f73614de-4dff-4b64-80cb-db0fdd143246"
      },
      "execution_count": null,
      "outputs": [
        {
          "output_type": "display_data",
          "data": {
            "text/plain": [
              "<Figure size 1000x500 with 10 Axes>"
            ],
            "image/png": "[encoded data removed]"
          },
          "metadata": {}
        }
      ]
    },
    {
      "cell_type": "code",
      "source": [
        "# Initialize weights and bias\n",
        "weights = np.zeros(X.shape[1]) # 784 weights (one for each pixel)\n",
        "bias = 0\n",
        "learning_rate = 0.1\n",
        "epochs = 100"
      ],
      "metadata": {
        "id": "OpDJVFTL0L-x"
      },
      "execution_count": null,
      "outputs": []
    },
    {
      "cell_type": "code",
      "source": [
        "import numpy as np\n",
        "\n",
        "def decision_function(X, weights, bias):\n",
        "    \"\"\"\n",
        "    Compute the predicted labels for the input data.\n",
        "\n",
        "    Parameters:\n",
        "    - X: Features (input data) as a numpy array of shape (n_samples, n_features)\n",
        "    - weights: Updated weights after training\n",
        "    - bias: Updated bias after training\n",
        "\n",
        "    Returns:\n",
        "    - y_pred_all: The predicted labels for the input data\n",
        "    \"\"\"\n",
        "    # Calculate the linear combination of inputs and weights\n",
        "    predictions = np.dot(X, weights) + bias\n",
        "\n",
        "    # Activation function (step function) to convert predictions to binary labels\n",
        "    y_pred_all = np.where(predictions >= 0, 1, 0)\n",
        "\n",
        "    return y_pred_all"
      ],
      "metadata": {
        "id": "mXVHB6D40sNu"
      },
      "execution_count": null,
      "outputs": []
    },
    {
      "cell_type": "code",
      "source": [
        "import numpy as np\n",
        "\n",
        "def train_perceptron(X, y, weights, bias, learning_rate=0.1, epochs=100):\n",
        "    \"\"\"\n",
        "    Train the perceptron using the Perceptron Learning Algorithm.\n",
        "\n",
        "    Parameters:\n",
        "    - X: Features (input data) as a numpy array of shape (n_samples, n_features)\n",
        "    - y: Labels (true output) as a numpy array of shape (n_samples,)\n",
        "    - weights: Initial weights as a numpy array of shape (n_features,)\n",
        "    - bias: Initial bias value (scalar)\n",
        "    - learning_rate: Learning rate for weight updates (default is 0.1)\n",
        "    - epochs: Number of iterations to train the model (default is 100)\n",
        "\n",
        "    Returns:\n",
        "    - weights: Updated weights after training\n",
        "    - bias: Updated bias after training\n",
        "    - accuracy: Total correct predictions\n",
        "    \"\"\"\n",
        "    # Step 3: Perceptron Learning Algorithm\n",
        "    for epoch in range(epochs):\n",
        "        correct_predictions = 0  # Count of correct predictions in the current epoch\n",
        "\n",
        "        # Iterate over each training sample\n",
        "        for i in range(len(X)):\n",
        "            # Compute the prediction using the decision function\n",
        "            prediction = np.dot(X[i], weights) + bias\n",
        "            # Apply the step function (activation function)\n",
        "            y_pred = 1 if prediction >= 0 else 0\n",
        "\n",
        "            # Update weights and bias if the prediction is incorrect\n",
        "            if y_pred != y[i]:\n",
        "                # Update weights and bias\n",
        "                weights += learning_rate * (y[i] - y_pred) * X[i]\n",
        "                bias += learning_rate * (y[i] - y_pred)\n",
        "            else:\n",
        "                correct_predictions += 1\n",
        "\n",
        "        # Calculate accuracy for the current epoch\n",
        "        accuracy = correct_predictions / len(X) * 100\n",
        "        print(f\"Epoch {epoch+1}/{epochs}, Accuracy: {accuracy:.2f}%\")\n",
        "\n",
        "    return weights, bias, accuracy"
      ],
      "metadata": {
        "id": "i3_LSmMt01vo"
      },
      "execution_count": null,
      "outputs": []
    },
    {
      "cell_type": "code",
      "source": [
        "# After training the model with the perceptron_learning_algorithm\n",
        "weights, bias, accuracy = train_perceptron(X, y, weights, bias)\n",
        "# Evaluate the model using the new function\n",
        "print(\"The Final Accuracy is: \", accuracy)"
      ],
      "metadata": {
        "colab": {
          "base_uri": "https://localhost:8080/"
        },
        "id": "6Cc7e8uA07Bq",
        "outputId": "0b43a366-c773-45cf-fe84-8ba4b79609e5"
      },
      "execution_count": null,
      "outputs": [
        {
          "output_type": "stream",
          "name": "stdout",
          "text": [
            "Epoch 1/100, Accuracy: 0.00%\n",
            "Epoch 2/100, Accuracy: 0.00%\n",
            "Epoch 3/100, Accuracy: 0.00%\n",
            "Epoch 4/100, Accuracy: 0.00%\n",
            "Epoch 5/100, Accuracy: 0.00%\n",
            "Epoch 6/100, Accuracy: 0.00%\n",
            "Epoch 7/100, Accuracy: 0.00%\n",
            "Epoch 8/100, Accuracy: 0.00%\n",
            "Epoch 9/100, Accuracy: 0.00%\n",
            "Epoch 10/100, Accuracy: 0.00%\n",
            "Epoch 11/100, Accuracy: 0.00%\n",
            "Epoch 12/100, Accuracy: 0.00%\n",
            "Epoch 13/100, Accuracy: 0.00%\n",
            "Epoch 14/100, Accuracy: 0.00%\n",
            "Epoch 15/100, Accuracy: 0.00%\n",
            "Epoch 16/100, Accuracy: 0.00%\n",
            "Epoch 17/100, Accuracy: 0.00%\n",
            "Epoch 18/100, Accuracy: 0.00%\n",
            "Epoch 19/100, Accuracy: 0.00%\n",
            "Epoch 20/100, Accuracy: 0.00%\n",
            "Epoch 21/100, Accuracy: 0.00%\n",
            "Epoch 22/100, Accuracy: 0.00%\n",
            "Epoch 23/100, Accuracy: 0.00%\n",
            "Epoch 24/100, Accuracy: 0.00%\n",
            "Epoch 25/100, Accuracy: 0.00%\n",
            "Epoch 26/100, Accuracy: 0.00%\n",
            "Epoch 27/100, Accuracy: 0.00%\n",
            "Epoch 28/100, Accuracy: 0.00%\n",
            "Epoch 29/100, Accuracy: 0.00%\n",
            "Epoch 30/100, Accuracy: 0.00%\n",
            "Epoch 31/100, Accuracy: 0.00%\n",
            "Epoch 32/100, Accuracy: 0.00%\n",
            "Epoch 33/100, Accuracy: 0.00%\n",
            "Epoch 34/100, Accuracy: 0.00%\n",
            "Epoch 35/100, Accuracy: 0.00%\n",
            "Epoch 36/100, Accuracy: 0.00%\n",
            "Epoch 37/100, Accuracy: 0.00%\n",
            "Epoch 38/100, Accuracy: 0.00%\n",
            "Epoch 39/100, Accuracy: 0.00%\n",
            "Epoch 40/100, Accuracy: 0.00%\n",
            "Epoch 41/100, Accuracy: 0.00%\n",
            "Epoch 42/100, Accuracy: 0.00%\n",
            "Epoch 43/100, Accuracy: 0.00%\n",
            "Epoch 44/100, Accuracy: 0.00%\n",
            "Epoch 45/100, Accuracy: 0.00%\n",
            "Epoch 46/100, Accuracy: 0.00%\n",
            "Epoch 47/100, Accuracy: 0.00%\n",
            "Epoch 48/100, Accuracy: 0.00%\n",
            "Epoch 49/100, Accuracy: 0.00%\n",
            "Epoch 50/100, Accuracy: 0.00%\n",
            "Epoch 51/100, Accuracy: 0.00%\n",
            "Epoch 52/100, Accuracy: 0.00%\n",
            "Epoch 53/100, Accuracy: 0.00%\n",
            "Epoch 54/100, Accuracy: 0.00%\n",
            "Epoch 55/100, Accuracy: 0.00%\n",
            "Epoch 56/100, Accuracy: 0.00%\n",
            "Epoch 57/100, Accuracy: 0.00%\n",
            "Epoch 58/100, Accuracy: 0.00%\n",
            "Epoch 59/100, Accuracy: 0.00%\n",
            "Epoch 60/100, Accuracy: 0.00%\n",
            "Epoch 61/100, Accuracy: 0.00%\n",
            "Epoch 62/100, Accuracy: 0.00%\n",
            "Epoch 63/100, Accuracy: 0.00%\n",
            "Epoch 64/100, Accuracy: 0.00%\n",
            "Epoch 65/100, Accuracy: 0.00%\n",
            "Epoch 66/100, Accuracy: 0.00%\n",
            "Epoch 67/100, Accuracy: 0.00%\n",
            "Epoch 68/100, Accuracy: 0.00%\n",
            "Epoch 69/100, Accuracy: 0.00%\n",
            "Epoch 70/100, Accuracy: 0.00%\n",
            "Epoch 71/100, Accuracy: 0.00%\n",
            "Epoch 72/100, Accuracy: 0.00%\n",
            "Epoch 73/100, Accuracy: 0.00%\n",
            "Epoch 74/100, Accuracy: 0.00%\n",
            "Epoch 75/100, Accuracy: 0.00%\n",
            "Epoch 76/100, Accuracy: 0.00%\n",
            "Epoch 77/100, Accuracy: 0.00%\n",
            "Epoch 78/100, Accuracy: 0.00%\n",
            "Epoch 79/100, Accuracy: 0.00%\n",
            "Epoch 80/100, Accuracy: 0.00%\n",
            "Epoch 81/100, Accuracy: 0.00%\n",
            "Epoch 82/100, Accuracy: 0.00%\n",
            "Epoch 83/100, Accuracy: 0.00%\n",
            "Epoch 84/100, Accuracy: 0.00%\n",
            "Epoch 85/100, Accuracy: 0.00%\n",
            "Epoch 86/100, Accuracy: 0.00%\n",
            "Epoch 87/100, Accuracy: 0.00%\n",
            "Epoch 88/100, Accuracy: 0.00%\n",
            "Epoch 89/100, Accuracy: 0.00%\n",
            "Epoch 90/100, Accuracy: 0.00%\n",
            "Epoch 91/100, Accuracy: 0.00%\n",
            "Epoch 92/100, Accuracy: 0.00%\n",
            "Epoch 93/100, Accuracy: 0.00%\n",
            "Epoch 94/100, Accuracy: 0.00%\n",
            "Epoch 95/100, Accuracy: 0.00%\n",
            "Epoch 96/100, Accuracy: 0.00%\n",
            "Epoch 97/100, Accuracy: 0.00%\n",
            "Epoch 98/100, Accuracy: 0.00%\n",
            "Epoch 99/100, Accuracy: 0.00%\n",
            "Epoch 100/100, Accuracy: 0.00%\n",
            "The Final Accuracy is:  0.0\n"
          ]
        }
      ]
    },
    {
      "cell_type": "code",
      "source": [
        "# Get predictions for all data points\n",
        "predictions = np.dot(X, weights) + bias\n",
        "y_pred = np.where(predictions >= 0, 3, 0)\n",
        "\n",
        "# Calculate final accuracy\n",
        "final_accuracy = np.mean(y_pred == y)\n",
        "print(f\"Final Accuracy: {final_accuracy:.4f}\")\n",
        "\n",
        "# Step 5: Visualize Misclassified Images\n",
        "misclassified_idx = np.where(y_pred != y)[0]\n",
        "\n",
        "if len(misclassified_idx) > 0:\n",
        "    # Limit the number of misclassified images to 10 (in case there are more than 10)\n",
        "    num_to_show = min(10, len(misclassified_idx))\n",
        "\n",
        "    fig, axes = plt.subplots(2, 5, figsize=(10, 5))\n",
        "    for ax, idx in zip(axes.flat, misclassified_idx[:num_to_show]):\n",
        "        ax.imshow(X[idx].reshape(28, 28), cmap=\"gray\")\n",
        "        ax.set_title(f\"Pred: {y_pred[idx]}, True: {y[idx]}\")\n",
        "        ax.axis(\"off\")\n",
        "    plt.suptitle(f\"Misclassified Images ({num_to_show} examples)\", fontsize=16)\n",
        "    plt.show()\n",
        "else:\n",
        "    print(\"All images were correctly classified!\")"
      ],
      "metadata": {
        "colab": {
          "base_uri": "https://localhost:8080/",
          "height": 468
        },
        "id": "-GPLQS-21IMn",
        "outputId": "c1282559-170c-4f29-ccbf-912525117a6e"
      },
      "execution_count": null,
      "outputs": [
        {
          "output_type": "stream",
          "name": "stdout",
          "text": [
            "Final Accuracy: 0.5414\n"
          ]
        },
        {
          "output_type": "display_data",
          "data": {
            "text/plain": [
              "<Figure size 1000x500 with 10 Axes>"
            ],
            "image/png": "[encoded data removed]"
          },
          "metadata": {}
        }
      ]
    },
    {
      "cell_type": "markdown",
      "source": [
        "**Conclusion**\n",
        "\n",
        "The model is failing completely, resulting in 0% accuracy. This suggests that the weights and bias are either not properly initialized or updated, the dataset is not preprocessed correctly, or the model is not learning from the data. Visualizing misclassified images confirms that all predictions are incorrect. Debugging the weight updates, data preprocessing, and label encoding is necessary to fix the issue."
      ],
      "metadata": {
        "id": "ZyiScbvv1_7y"
      }
    }
  ]
}